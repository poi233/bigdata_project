{
 "cells": [
  {
   "cell_type": "markdown",
   "metadata": {},
   "source": [
    "# Task1 Exploration of the data"
   ]
  },
  {
   "cell_type": "code",
   "execution_count": 1,
   "metadata": {
    "pycharm": {
     "is_executing": false
    }
   },
   "outputs": [],
   "source": [
    "import os\n",
    "import pandas as pd\n",
    "import numpy as np\n",
    "import matplotlib.pyplot as plt"
   ]
  },
  {
   "cell_type": "code",
   "execution_count": 2,
   "metadata": {},
   "outputs": [],
   "source": [
    "def find_bigram(input_list):\n",
    "    two_gram = []\n",
    "    for i in range(len(input_list)):\n",
    "        for j in range(i + 1, len(input_list)):\n",
    "            bigram = \"%s,%s\" % (input_list[i] ,input_list[j])\n",
    "            two_gram.append(bigram)\n",
    "    return two_gram"
   ]
  },
  {
   "cell_type": "code",
   "execution_count": 3,
   "metadata": {},
   "outputs": [],
   "source": [
    "def find_threegram(input_list):\n",
    "    three_gram_list = []\n",
    "    for i in range(len(input_list)):\n",
    "        for j in range(i + 1, len(input_list)):\n",
    "            for k in range(j + 1, len(input_list)):\n",
    "                three_gram = \"%s,%s,%s\" % (input_list[i], input_list[j] ,input_list[k])\n",
    "                three_gram_list.append(three_gram)\n",
    "    return three_gram_list"
   ]
  },
  {
   "cell_type": "code",
   "execution_count": 4,
   "metadata": {
    "pycharm": {
     "is_executing": true
    },
    "scrolled": true
   },
   "outputs": [
    {
     "name": "stdout",
     "output_type": "stream",
     "text": [
      "{'TEXT': 28208, 'REAL': 5604, 'INTEGER': 16878, 'DATE/TIME': 2249}\n",
      "{'INTEGER,TEXT': 10729, 'DATE/TIME,TEXT': 1801, 'INTEGER,REAL': 752, 'REAL,TEXT': 3123, 'DATE/TIME,INTEGER': 377, 'DATE/TIME,REAL': 198}\n",
      "{'INTEGER,REAL,TEXT': 750, 'DATE/TIME,INTEGER,TEXT': 372, 'DATE/TIME,INTEGER,REAL': 64, 'DATE/TIME,REAL,TEXT': 197}\n",
      "{'DATE/TIME,INTEGER,REAL,TEXT': 64}\n"
     ]
    }
   ],
   "source": [
    "path = \"./task1_data_again\"\n",
    "files= os.listdir(path) \n",
    "column_count = dict()\n",
    "two_gram_dict = dict()\n",
    "three_gram_dict = dict()\n",
    "four_gram_dict = dict()\n",
    "for file in files:\n",
    "    cur = pd.read_json(path + '/' + file, typ='series')\n",
    "    column_set = set()\n",
    "    for column in cur['columns']:\n",
    "        column_types = []\n",
    "        for data_type in column['data_types']:  \n",
    "            if data_type['type'] not in column_count:\n",
    "                column_count.setdefault(data_type['type'], 0)\n",
    "            column_count[data_type['type']] += 1\n",
    "            column_types.append(data_type['type'])\n",
    "        column_types.sort()\n",
    "        if len(column_types) >= 2:\n",
    "            column_bigram = find_bigram(column_types)\n",
    "            for bigram in column_bigram:\n",
    "                if bigram not in two_gram_dict:\n",
    "                    two_gram_dict.setdefault(bigram, 0)\n",
    "                two_gram_dict[bigram] += 1\n",
    "        if len(column_types) >= 3:\n",
    "            column_threegram_list = find_threegram(column_types)\n",
    "            for threegram in column_threegram_list:\n",
    "                if threegram not in three_gram_dict:\n",
    "                    three_gram_dict.setdefault(threegram, 0)\n",
    "                three_gram_dict[threegram] += 1\n",
    "        if len(column_types) >= 4:\n",
    "            four_gram = \",\".join(column_types)\n",
    "            if four_gram not in four_gram_dict:\n",
    "                four_gram_dict.setdefault(four_gram, 0)\n",
    "            four_gram_dict[four_gram] += 1\n",
    "print(column_count)\n",
    "print(two_gram_dict)\n",
    "print(three_gram_dict)\n",
    "print(four_gram_dict)"
   ]
  },
  {
   "cell_type": "code",
   "execution_count": 5,
   "metadata": {},
   "outputs": [
    {
     "data": {
      "image/png": "[encoded data removed]",
      "text/plain": [
       "<Figure size 720x360 with 1 Axes>"
      ]
     },
     "metadata": {
      "needs_background": "light"
     },
     "output_type": "display_data"
    }
   ],
   "source": [
    "keys = list(column_count.keys())\n",
    "values = list(column_count.values())\n",
    "plt.figure(figsize=(10,5))\n",
    "plt.bar(keys, values, width=0.4, alpha=0.8)\n",
    "plt.title(\"Type Count\")\n",
    "plt.savefig('./figures/task1/type_count.png')\n",
    "plt.show()"
   ]
  },
  {
   "cell_type": "code",
   "execution_count": 6,
   "metadata": {
    "scrolled": false
   },
   "outputs": [
    {
     "data": {
      "image/png": "[encoded data removed]",
      "text/plain": [
       "<Figure size 720x360 with 1 Axes>"
      ]
     },
     "metadata": {
      "needs_background": "light"
     },
     "output_type": "display_data"
    }
   ],
   "source": [
    "keys = list(two_gram_dict.keys()) + list(three_gram_dict.keys()) + list(four_gram_dict.keys())\n",
    "values = list(two_gram_dict.values()) + list(three_gram_dict.values()) + list(four_gram_dict.values())\n",
    "plt.figure(figsize=(10,5))\n",
    "plt.bar(keys, values, alpha=0.8)\n",
    "plt.title(\"2,3,4-gram\")\n",
    "plt.xticks(rotation=270)\n",
    "plt.savefig('./figures/task1/2,3,4-gram.png')\n",
    "plt.show()"
   ]
  },
  {
   "cell_type": "code",
   "execution_count": null,
   "metadata": {},
   "outputs": [],
   "source": []
  }
 ],
 "metadata": {
  "kernelspec": {
   "display_name": "PyCharm (bigdata)",
   "language": "python",
   "name": "pycharm-f8b3471f"
  },
  "language_info": {
   "codemirror_mode": {
    "name": "ipython",
    "version": 3
   },
   "file_extension": ".py",
   "mimetype": "text/x-python",
   "name": "python",
   "nbconvert_exporter": "python",
   "pygments_lexer": "ipython3",
   "version": "3.7.4"
  }
 },
 "nbformat": 4,
 "nbformat_minor": 2
}
