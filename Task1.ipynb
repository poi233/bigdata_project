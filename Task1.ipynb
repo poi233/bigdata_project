{
 "cells": [
  {
   "cell_type": "markdown",
   "metadata": {},
   "source": [
    "# Task1 Exploration of the data"
   ]
  },
  {
   "cell_type": "code",
   "execution_count": 1,
   "metadata": {
    "pycharm": {
     "is_executing": false
    }
   },
   "outputs": [],
   "source": [
    "import os\n",
    "import pandas as pd\n",
    "import matplotlib.pyplot as plt"
   ]
  },
  {
   "cell_type": "code",
   "execution_count": 5,
   "metadata": {},
   "outputs": [],
   "source": [
    "def find_bigram(input_list):\n",
    "    two_gram = []\n",
    "    for i in range(len(input_list)):\n",
    "        for j in range(i + 1, len(input_list)):\n",
    "            bigram = input_list[i] + ',' + input_list[j]\n",
    "            two_gram.append(bigram)\n",
    "    return two_gram"
   ]
  },
  {
   "cell_type": "code",
   "execution_count": 16,
   "metadata": {
    "pycharm": {
     "is_executing": true
    },
    "scrolled": false
   },
   "outputs": [
    {
     "name": "stdout",
     "output_type": "stream",
     "text": [
      "i4ni-6qin.json\n",
      "{'TEXT': 2231, 'REAL': 376, 'INTEGER': 1087, 'DATE/TIME': 81}\n",
      "{'INTEGER,TEXT': 584, 'DATE/TIME,TEXT': 68, 'INTEGER,REAL': 26, 'REAL,TEXT': 178, 'DATE/TIME,INTEGER': 12, 'DATE/TIME,REAL': 1}\n",
      "{}\n"
     ]
    }
   ],
   "source": [
    "path = \"./task1_data_again\"\n",
    "files= os.listdir(path) \n",
    "column_count = dict()\n",
    "two_gram = dict()\n",
    "three_gram = dict()\n",
    "try:\n",
    "    for file in files:\n",
    "        cur = pd.read_json(path + '/' + file, typ='series')\n",
    "        column_set = set()\n",
    "        for column in cur['columns']:\n",
    "            column_types = []\n",
    "            for data_type in column['data_types']:  \n",
    "                if data_type['type'] not in column_count:\n",
    "                    column_count.setdefault(data_type['type'], 0)\n",
    "                column_count[data_type['type']] += 1\n",
    "                column_types.append(data_type['type'])\n",
    "            column_types.sort()\n",
    "            column_bigram = find_bigram(column_types)\n",
    "            for bigram in column_bigram:\n",
    "                if bigram not in two_gram:\n",
    "                    two_gram.setdefault(bigram, 0)\n",
    "                two_gram[bigram] += 1\n",
    "except:\n",
    "    print(file)\n",
    "#             column_set.add(column['data_types']['type'])\n",
    "#             column_set = column_set - set(['NONE', 'empty'])\n",
    "#             column_list = list(column_set)            \n",
    "#             column_list.sort()\n",
    "#             if len(column_list) <= 1:\n",
    "#                 continue\n",
    "#             for i in range(len(column_list)):\n",
    "#                 for j in range(i + 1, len(column_list)):\n",
    "#                     two_gram.setdefault(column_list[i] + ',' + column_list[j], 0)\n",
    "#                     two_gram[column_list[i] + ',' + column_list[j]] += 1\n",
    "#             for i in range(len(column_list)):\n",
    "#                 for j in range(i + 1, len(column_list)):\n",
    "#                     for k in range(j + 1, len(column_list)):\n",
    "#                         three_gram.setdefault(column_list[i] + \",\" + column_list[j] + ',' + column_list[k], 0)\n",
    "#                         three_gram[column_list[i] + \",\" + column_list[j] + ',' + column_list[k]] += 1\n",
    "print(column_count)\n",
    "print(two_gram)\n",
    "print(three_gram)"
   ]
  },
  {
   "cell_type": "code",
   "execution_count": 15,
   "metadata": {},
   "outputs": [
    {
     "data": {
      "text/plain": [
       "10203040506070809101112"
      ]
     },
     "execution_count": 15,
     "metadata": {},
     "output_type": "execute_result"
    }
   ],
   "source": [
    "int(10203040506070809101112)"
   ]
  },
  {
   "cell_type": "code",
   "execution_count": 3,
   "metadata": {
    "scrolled": true
   },
   "outputs": [
    {
     "data": {
      "image/png": "[encoded data removed]",
      "text/plain": [
       "<Figure size 432x288 with 1 Axes>"
      ]
     },
     "metadata": {
      "needs_background": "light"
     },
     "output_type": "display_data"
    }
   ],
   "source": [
    "plt.bar(list(column_count.keys()), column_count.values(), color='g')\n",
    "plt.show()"
   ]
  },
  {
   "cell_type": "code",
   "execution_count": 80,
   "metadata": {},
   "outputs": [
    {
     "data": {
      "image/png": "[encoded data removed]",
      "text/plain": [
       "<Figure size 432x288 with 1 Axes>"
      ]
     },
     "metadata": {
      "needs_background": "light"
     },
     "output_type": "display_data"
    }
   ],
   "source": [
    "plt.bar(list(two_gram.keys()), two_gram.values(), color='g')\n",
    "plt.xticks(rotation=270)\n",
    "plt.show()"
   ]
  },
  {
   "cell_type": "code",
   "execution_count": 78,
   "metadata": {
    "scrolled": false
   },
   "outputs": [
    {
     "data": {
      "image/png": "[encoded data removed]",
      "text/plain": [
       "<Figure size 432x288 with 1 Axes>"
      ]
     },
     "metadata": {
      "needs_background": "light"
     },
     "output_type": "display_data"
    }
   ],
   "source": [
    "plt.bar(list(three_gram.keys()), three_gram.values(), color='g')\n",
    "plt.xticks(rotation=270)\n",
    "plt.show()"
   ]
  }
 ],
 "metadata": {
  "kernelspec": {
   "display_name": "PyCharm (bigdata)",
   "language": "python",
   "name": "pycharm-f8b3471f"
  },
  "language_info": {
   "codemirror_mode": {
    "name": "ipython",
    "version": 3
   },
   "file_extension": ".py",
   "mimetype": "text/x-python",
   "name": "python",
   "nbconvert_exporter": "python",
   "pygments_lexer": "ipython3",
   "version": "3.7.4"
  }
 },
 "nbformat": 4,
 "nbformat_minor": 2
}
