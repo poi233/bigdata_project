{
 "cells": [
  {
   "cell_type": "code",
   "execution_count": 29,
   "metadata": {
    "pycharm": {
     "is_executing": false
    },
    "scrolled": false
   },
   "outputs": [
    {
     "name": "stdout",
     "output_type": "stream",
     "text": [
      "{'TEXT': 3391, 'INTEGER': 1343, 'DATE/TIME': 199, 'REAL': 422, 'NONE': 151}\n"
     ]
    }
   ],
   "source": [
    "import os\n",
    "import pandas as pd\n",
    "path = \"./task1_data\"\n",
    "files= os.listdir(path) \n",
    "column_count = dict()\n",
    "for file in files:\n",
    "    try:\n",
    "        cur = pd.read_json(path + '/' + file, typ='series')\n",
    "        for column in cur['columns']:\n",
    "            column_count.setdefault(column['data_types']['type'], 0)\n",
    "            column_count[column['data_types']['type']] += 1\n",
    "    except:\n",
    "#         os.remove(path + '/' + file)\n",
    "        print(file + ' error')\n",
    "print(column_count)"
   ]
  },
  {
   "cell_type": "code",
   "execution_count": null,
   "metadata": {},
   "outputs": [],
   "source": []
  }
 ],
 "metadata": {
  "kernelspec": {
   "display_name": "Python 3",
   "language": "python",
   "name": "python3"
  },
  "language_info": {
   "codemirror_mode": {
    "name": "ipython",
    "version": 3
   },
   "file_extension": ".py",
   "mimetype": "text/x-python",
   "name": "python",
   "nbconvert_exporter": "python",
   "pygments_lexer": "ipython3",
   "version": "3.7.3"
  }
 },
 "nbformat": 4,
 "nbformat_minor": 2
}
