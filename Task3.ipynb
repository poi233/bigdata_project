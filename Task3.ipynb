{
 "cells": [
  {
   "cell_type": "markdown",
   "metadata": {},
   "source": [
    "# Task 3 Explore problems with restaurants"
   ]
  },
  {
   "cell_type": "markdown",
   "metadata": {},
   "source": [
    "You will explore problems with restaurants in NYC. You will analyze data from multiple data sets, e.g., 311 food poisoning complaints, restaurant inspections, and attempt to better understand the problem. For example, is there a correlation between FOOD POISONING complaints in 311 and restaurant inspections? Does the weather contribute to an increase or decrease in complaints? Are there areas in the City that receive more\n",
    "complaints? Is there a correlation between complaints in different areas and the indicators for these areas (e.g., income, education level)?"
   ]
  },
  {
   "cell_type": "code",
   "execution_count": 1,
   "metadata": {},
   "outputs": [],
   "source": [
    "import numpy as np\n",
    "import pandas as pd\n",
    "import dateutil.parser as parser"
   ]
  },
  {
   "cell_type": "markdown",
   "metadata": {},
   "source": [
    "Import data of 311 complaints, restaurant inspections and people's poverty condition data"
   ]
  },
  {
   "cell_type": "code",
   "execution_count": 2,
   "metadata": {},
   "outputs": [],
   "source": [
    "food_problems = pd.read_csv('task3_data/food_problems.csv')\n",
    "food_inspect = pd.read_csv('task3_data/food_inspect.csv')\n",
    "poverty = pd.read_csv('task3_data/poverty.csv')"
   ]
  },
  {
   "cell_type": "code",
   "execution_count": 3,
   "metadata": {},
   "outputs": [],
   "source": [
    "borough = ['BROOKLYN', \"BRONX\", \"QUEENS\", \"MANHATTAN\", \"STATEN ISLAND\"]"
   ]
  },
  {
   "cell_type": "code",
   "execution_count": 4,
   "metadata": {},
   "outputs": [],
   "source": [
    "food_poison = food_problems[food_problems['type'] == 'Food Poisoning']\n",
    "food_establishment = food_problems[food_problems['type'] == 'Food Establishment']"
   ]
  },
  {
   "cell_type": "code",
   "execution_count": 5,
   "metadata": {},
   "outputs": [],
   "source": [
    "food_poison_borough = {boro:food_poison[food_poison['borough'] == boro] for boro in borough}\n",
    "food_establishment_borough = {boro:food_establishment[food_establishment['borough'] == boro] for boro in borough}"
   ]
  },
  {
   "cell_type": "code",
   "execution_count": 6,
   "metadata": {},
   "outputs": [
    {
     "data": {
      "text/plain": [
       "4"
      ]
     },
     "execution_count": 6,
     "metadata": {},
     "output_type": "execute_result"
    }
   ],
   "source": [
    "parser.parse('04/06/2010 01:45:57 PM').year\n",
    "parser.parse('04/06/2010 01:45:57 PM').month"
   ]
  },
  {
   "cell_type": "code",
   "execution_count": null,
   "metadata": {},
   "outputs": [],
   "source": []
  }
 ],
 "metadata": {
  "kernelspec": {
   "display_name": "Python 3",
   "language": "python",
   "name": "python3"
  },
  "language_info": {
   "codemirror_mode": {
    "name": "ipython",
    "version": 3
   },
   "file_extension": ".py",
   "mimetype": "text/x-python",
   "name": "python",
   "nbconvert_exporter": "python",
   "pygments_lexer": "ipython3",
   "version": "3.7.3"
  }
 },
 "nbformat": 4,
 "nbformat_minor": 2
}
